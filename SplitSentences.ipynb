{
 "cells": [
  {
   "cell_type": "code",
   "execution_count": 1,
   "metadata": {},
   "outputs": [],
   "source": [
    "import pandas as pd\n",
    "from deepmultilingualpunctuation import PunctuationModel"
   ]
  },
  {
   "cell_type": "code",
   "execution_count": 2,
   "metadata": {},
   "outputs": [],
   "source": [
    "data_df = pd.read_csv(\"RayHudsonSanitized.csv\", )"
   ]
  },
  {
   "cell_type": "code",
   "execution_count": 13,
   "metadata": {},
   "outputs": [
    {
     "data": {
      "text/html": [
       "<div>\n",
       "<style scoped>\n",
       "    .dataframe tbody tr th:only-of-type {\n",
       "        vertical-align: middle;\n",
       "    }\n",
       "\n",
       "    .dataframe tbody tr th {\n",
       "        vertical-align: top;\n",
       "    }\n",
       "\n",
       "    .dataframe thead th {\n",
       "        text-align: right;\n",
       "    }\n",
       "</style>\n",
       "<table border=\"1\" class=\"dataframe\">\n",
       "  <thead>\n",
       "    <tr style=\"text-align: right;\">\n",
       "      <th></th>\n",
       "      <th>Unnamed: 0</th>\n",
       "      <th>Video Name</th>\n",
       "      <th>Thumbnail URL</th>\n",
       "      <th>Video ID</th>\n",
       "      <th>length</th>\n",
       "      <th>date published</th>\n",
       "      <th>transcript</th>\n",
       "    </tr>\n",
       "  </thead>\n",
       "  <tbody>\n",
       "    <tr>\n",
       "      <th>2</th>\n",
       "      <td>2</td>\n",
       "      <td>Barcelona vs Getafe | LA LIGA HIGHLIGHTS | 4/2...</td>\n",
       "      <td>https://i.ytimg.com/vi/P94-YkBNOII/hqdefault.j...</td>\n",
       "      <td>P94-YkBNOII</td>\n",
       "      <td>13 minutes, 9 seconds</td>\n",
       "      <td>1 year ago</td>\n",
       "      <td>this is a wonderful show of class from hetafa...</td>\n",
       "    </tr>\n",
       "    <tr>\n",
       "      <th>3</th>\n",
       "      <td>3</td>\n",
       "      <td>Ray Hudson's Best Reactions Vol. 2: El Clásico</td>\n",
       "      <td>https://i.ytimg.com/vi/Q383qiSYFTA/hqdefault.j...</td>\n",
       "      <td>Q383qiSYFTA</td>\n",
       "      <td>5 minutes, 7 seconds</td>\n",
       "      <td>1 year ago</td>\n",
       "      <td>[Music] vasquez bursting up the right wing sn...</td>\n",
       "    </tr>\n",
       "    <tr>\n",
       "      <th>4</th>\n",
       "      <td>4</td>\n",
       "      <td>Real Madrid vs Barcelona | LALIGA HIGHLIGHTS |...</td>\n",
       "      <td>https://i.ytimg.com/vi/tyOX9p2BWZk/hqdefault.j...</td>\n",
       "      <td>tyOX9p2BWZk</td>\n",
       "      <td>19 minutes, 39 seconds</td>\n",
       "      <td>1 year ago</td>\n",
       "      <td>casius di stefano ramos raul up against barce...</td>\n",
       "    </tr>\n",
       "    <tr>\n",
       "      <th>5</th>\n",
       "      <td>5</td>\n",
       "      <td>Real Sociedad vs Barcelona | LALIGA HIGHLIGHTS...</td>\n",
       "      <td>https://i.ytimg.com/vi/iPgkQE-M8SU/hqdefault.j...</td>\n",
       "      <td>iPgkQE-M8SU</td>\n",
       "      <td>12 minutes, 5 seconds</td>\n",
       "      <td>1 year ago</td>\n",
       "      <td>well as you might have just grabbed a peek th...</td>\n",
       "    </tr>\n",
       "    <tr>\n",
       "      <th>6</th>\n",
       "      <td>6</td>\n",
       "      <td>Barcelona vs Huesca | LALIGA HIGHLIGHTS | 3/15...</td>\n",
       "      <td>https://i.ytimg.com/vi/vPiKCMo7trw/hqdefault.j...</td>\n",
       "      <td>vPiKCMo7trw</td>\n",
       "      <td>12 minutes, 29 seconds</td>\n",
       "      <td>1 year ago</td>\n",
       "      <td>up shorts in honor of the man that used to we...</td>\n",
       "    </tr>\n",
       "  </tbody>\n",
       "</table>\n",
       "</div>"
      ],
      "text/plain": [
       "   Unnamed: 0                                         Video Name  \\\n",
       "2           2  Barcelona vs Getafe | LA LIGA HIGHLIGHTS | 4/2...   \n",
       "3           3     Ray Hudson's Best Reactions Vol. 2: El Clásico   \n",
       "4           4  Real Madrid vs Barcelona | LALIGA HIGHLIGHTS |...   \n",
       "5           5  Real Sociedad vs Barcelona | LALIGA HIGHLIGHTS...   \n",
       "6           6  Barcelona vs Huesca | LALIGA HIGHLIGHTS | 3/15...   \n",
       "\n",
       "                                       Thumbnail URL     Video ID  \\\n",
       "2  https://i.ytimg.com/vi/P94-YkBNOII/hqdefault.j...  P94-YkBNOII   \n",
       "3  https://i.ytimg.com/vi/Q383qiSYFTA/hqdefault.j...  Q383qiSYFTA   \n",
       "4  https://i.ytimg.com/vi/tyOX9p2BWZk/hqdefault.j...  tyOX9p2BWZk   \n",
       "5  https://i.ytimg.com/vi/iPgkQE-M8SU/hqdefault.j...  iPgkQE-M8SU   \n",
       "6  https://i.ytimg.com/vi/vPiKCMo7trw/hqdefault.j...  vPiKCMo7trw   \n",
       "\n",
       "                   length date published  \\\n",
       "2   13 minutes, 9 seconds     1 year ago   \n",
       "3    5 minutes, 7 seconds     1 year ago   \n",
       "4  19 minutes, 39 seconds     1 year ago   \n",
       "5   12 minutes, 5 seconds     1 year ago   \n",
       "6  12 minutes, 29 seconds     1 year ago   \n",
       "\n",
       "                                          transcript  \n",
       "2   this is a wonderful show of class from hetafa...  \n",
       "3   [Music] vasquez bursting up the right wing sn...  \n",
       "4   casius di stefano ramos raul up against barce...  \n",
       "5   well as you might have just grabbed a peek th...  \n",
       "6   up shorts in honor of the man that used to we...  "
      ]
     },
     "execution_count": 13,
     "metadata": {},
     "output_type": "execute_result"
    }
   ],
   "source": [
    "data_df.head()"
   ]
  },
  {
   "cell_type": "code",
   "execution_count": 12,
   "metadata": {},
   "outputs": [],
   "source": [
    "data_df = data_df.dropna(subset = ['transcript'])"
   ]
  },
  {
   "cell_type": "code",
   "execution_count": 4,
   "metadata": {},
   "outputs": [
    {
     "name": "stderr",
     "output_type": "stream",
     "text": [
      "Downloading: 100%|██████████| 892/892 [00:00<00:00, 880kB/s]\n",
      "c:\\Users\\tyxia\\AppData\\Local\\Programs\\Python\\Python37\\lib\\site-packages\\huggingface_hub\\file_download.py:127: UserWarning: `huggingface_hub` cache-system uses symlinks by default to efficiently store duplicated files but your machine does not support them in C:\\Users\\tyxia\\.cache\\huggingface\\hub. Caching files will still work but in a degraded version that might require more space on your disk. This warning can be disabled by setting the `HF_HUB_DISABLE_SYMLINKS_WARNING` environment variable. For more details, see https://huggingface.co/docs/huggingface_hub/how-to-cache#limitations.\n",
      "To support symlinks on Windows, you either need to activate Developer Mode or to run Python as an administrator. In order to see activate developer mode, see this article: https://docs.microsoft.com/en-us/windows/apps/get-started/enable-your-device-for-development\n",
      "  warnings.warn(message)\n",
      "Downloading: 100%|██████████| 2.24G/2.24G [02:46<00:00, 13.5MB/s] \n",
      "Downloading: 100%|██████████| 406/406 [00:00<00:00, 422kB/s]\n",
      "Downloading: 100%|██████████| 5.07M/5.07M [00:02<00:00, 2.47MB/s]\n",
      "Downloading: 100%|██████████| 239/239 [00:00<00:00, 231kB/s]\n",
      "c:\\Users\\tyxia\\AppData\\Local\\Programs\\Python\\Python37\\lib\\site-packages\\transformers\\pipelines\\token_classification.py:160: UserWarning: `grouped_entities` is deprecated and will be removed in version v5.0.0, defaulted to `aggregation_strategy=\"none\"` instead.\n",
      "  \"`grouped_entities` is deprecated and will be removed in version v5.0.0, defaulted to\"\n"
     ]
    }
   ],
   "source": [
    "model = PunctuationModel()"
   ]
  },
  {
   "cell_type": "code",
   "execution_count": 14,
   "metadata": {},
   "outputs": [],
   "source": [
    "data_df['punctuated transcripts'] = data_df['transcript'].apply(model.restore_punctuation)"
   ]
  },
  {
   "cell_type": "code",
   "execution_count": 15,
   "metadata": {},
   "outputs": [
    {
     "data": {
      "text/html": [
       "<div>\n",
       "<style scoped>\n",
       "    .dataframe tbody tr th:only-of-type {\n",
       "        vertical-align: middle;\n",
       "    }\n",
       "\n",
       "    .dataframe tbody tr th {\n",
       "        vertical-align: top;\n",
       "    }\n",
       "\n",
       "    .dataframe thead th {\n",
       "        text-align: right;\n",
       "    }\n",
       "</style>\n",
       "<table border=\"1\" class=\"dataframe\">\n",
       "  <thead>\n",
       "    <tr style=\"text-align: right;\">\n",
       "      <th></th>\n",
       "      <th>Unnamed: 0</th>\n",
       "      <th>Video Name</th>\n",
       "      <th>Thumbnail URL</th>\n",
       "      <th>Video ID</th>\n",
       "      <th>length</th>\n",
       "      <th>date published</th>\n",
       "      <th>transcript</th>\n",
       "      <th>punctuated transcripts</th>\n",
       "    </tr>\n",
       "  </thead>\n",
       "  <tbody>\n",
       "    <tr>\n",
       "      <th>2</th>\n",
       "      <td>2</td>\n",
       "      <td>Barcelona vs Getafe | LA LIGA HIGHLIGHTS | 4/2...</td>\n",
       "      <td>https://i.ytimg.com/vi/P94-YkBNOII/hqdefault.j...</td>\n",
       "      <td>P94-YkBNOII</td>\n",
       "      <td>13 minutes, 9 seconds</td>\n",
       "      <td>1 year ago</td>\n",
       "      <td>this is a wonderful show of class from hetafa...</td>\n",
       "      <td>this is a wonderful show of class from hetafa ...</td>\n",
       "    </tr>\n",
       "    <tr>\n",
       "      <th>3</th>\n",
       "      <td>3</td>\n",
       "      <td>Ray Hudson's Best Reactions Vol. 2: El Clásico</td>\n",
       "      <td>https://i.ytimg.com/vi/Q383qiSYFTA/hqdefault.j...</td>\n",
       "      <td>Q383qiSYFTA</td>\n",
       "      <td>5 minutes, 7 seconds</td>\n",
       "      <td>1 year ago</td>\n",
       "      <td>[Music] vasquez bursting up the right wing sn...</td>\n",
       "      <td>[Music] vasquez, bursting up the right wing, s...</td>\n",
       "    </tr>\n",
       "    <tr>\n",
       "      <th>4</th>\n",
       "      <td>4</td>\n",
       "      <td>Real Madrid vs Barcelona | LALIGA HIGHLIGHTS |...</td>\n",
       "      <td>https://i.ytimg.com/vi/tyOX9p2BWZk/hqdefault.j...</td>\n",
       "      <td>tyOX9p2BWZk</td>\n",
       "      <td>19 minutes, 39 seconds</td>\n",
       "      <td>1 year ago</td>\n",
       "      <td>casius di stefano ramos raul up against barce...</td>\n",
       "      <td>casius di stefano ramos, raul up against barce...</td>\n",
       "    </tr>\n",
       "    <tr>\n",
       "      <th>5</th>\n",
       "      <td>5</td>\n",
       "      <td>Real Sociedad vs Barcelona | LALIGA HIGHLIGHTS...</td>\n",
       "      <td>https://i.ytimg.com/vi/iPgkQE-M8SU/hqdefault.j...</td>\n",
       "      <td>iPgkQE-M8SU</td>\n",
       "      <td>12 minutes, 5 seconds</td>\n",
       "      <td>1 year ago</td>\n",
       "      <td>well as you might have just grabbed a peek th...</td>\n",
       "      <td>well as you might have just grabbed a peek, th...</td>\n",
       "    </tr>\n",
       "    <tr>\n",
       "      <th>6</th>\n",
       "      <td>6</td>\n",
       "      <td>Barcelona vs Huesca | LALIGA HIGHLIGHTS | 3/15...</td>\n",
       "      <td>https://i.ytimg.com/vi/vPiKCMo7trw/hqdefault.j...</td>\n",
       "      <td>vPiKCMo7trw</td>\n",
       "      <td>12 minutes, 29 seconds</td>\n",
       "      <td>1 year ago</td>\n",
       "      <td>up shorts in honor of the man that used to we...</td>\n",
       "      <td>up shorts in honor of the man that used to wea...</td>\n",
       "    </tr>\n",
       "  </tbody>\n",
       "</table>\n",
       "</div>"
      ],
      "text/plain": [
       "   Unnamed: 0                                         Video Name  \\\n",
       "2           2  Barcelona vs Getafe | LA LIGA HIGHLIGHTS | 4/2...   \n",
       "3           3     Ray Hudson's Best Reactions Vol. 2: El Clásico   \n",
       "4           4  Real Madrid vs Barcelona | LALIGA HIGHLIGHTS |...   \n",
       "5           5  Real Sociedad vs Barcelona | LALIGA HIGHLIGHTS...   \n",
       "6           6  Barcelona vs Huesca | LALIGA HIGHLIGHTS | 3/15...   \n",
       "\n",
       "                                       Thumbnail URL     Video ID  \\\n",
       "2  https://i.ytimg.com/vi/P94-YkBNOII/hqdefault.j...  P94-YkBNOII   \n",
       "3  https://i.ytimg.com/vi/Q383qiSYFTA/hqdefault.j...  Q383qiSYFTA   \n",
       "4  https://i.ytimg.com/vi/tyOX9p2BWZk/hqdefault.j...  tyOX9p2BWZk   \n",
       "5  https://i.ytimg.com/vi/iPgkQE-M8SU/hqdefault.j...  iPgkQE-M8SU   \n",
       "6  https://i.ytimg.com/vi/vPiKCMo7trw/hqdefault.j...  vPiKCMo7trw   \n",
       "\n",
       "                   length date published  \\\n",
       "2   13 minutes, 9 seconds     1 year ago   \n",
       "3    5 minutes, 7 seconds     1 year ago   \n",
       "4  19 minutes, 39 seconds     1 year ago   \n",
       "5   12 minutes, 5 seconds     1 year ago   \n",
       "6  12 minutes, 29 seconds     1 year ago   \n",
       "\n",
       "                                          transcript  \\\n",
       "2   this is a wonderful show of class from hetafa...   \n",
       "3   [Music] vasquez bursting up the right wing sn...   \n",
       "4   casius di stefano ramos raul up against barce...   \n",
       "5   well as you might have just grabbed a peek th...   \n",
       "6   up shorts in honor of the man that used to we...   \n",
       "\n",
       "                              punctuated transcripts  \n",
       "2  this is a wonderful show of class from hetafa ...  \n",
       "3  [Music] vasquez, bursting up the right wing, s...  \n",
       "4  casius di stefano ramos, raul up against barce...  \n",
       "5  well as you might have just grabbed a peek, th...  \n",
       "6  up shorts in honor of the man that used to wea...  "
      ]
     },
     "execution_count": 15,
     "metadata": {},
     "output_type": "execute_result"
    }
   ],
   "source": [
    "data_df.head()"
   ]
  },
  {
   "cell_type": "code",
   "execution_count": 18,
   "metadata": {},
   "outputs": [],
   "source": [
    "data_df.to_csv(\"RayHudsonSanitized.csv\", index = False)"
   ]
  },
  {
   "cell_type": "code",
   "execution_count": null,
   "metadata": {},
   "outputs": [],
   "source": []
  }
 ],
 "metadata": {
  "kernelspec": {
   "display_name": "Python 3",
   "language": "python",
   "name": "python3"
  },
  "language_info": {
   "codemirror_mode": {
    "name": "ipython",
    "version": 3
   },
   "file_extension": ".py",
   "mimetype": "text/x-python",
   "name": "python",
   "nbconvert_exporter": "python",
   "pygments_lexer": "ipython3",
   "version": "3.7.9 (tags/v3.7.9:13c94747c7, Aug 17 2020, 18:58:18) [MSC v.1900 64 bit (AMD64)]"
  },
  "orig_nbformat": 4,
  "vscode": {
   "interpreter": {
    "hash": "fc22371f3870926dbbcdf04161196d7334d8dc09d0b069ea32b843c425bf39e1"
   }
  }
 },
 "nbformat": 4,
 "nbformat_minor": 2
}
