{
 "cells": [
  {
   "cell_type": "code",
   "execution_count": 54,
   "metadata": {},
   "outputs": [],
   "source": [
    "import pandas as pd\n",
    "import matplotlib.pyplot as plt\n",
    "import nltk\n",
    "from nltk.tokenize import sent_tokenize\n",
    "import torch\n",
    "from transformers import AutoTokenizer, AutoModel\n",
    "import spacy\n",
    "from sklearn.metrics.pairwise import cosine_similarity\n",
    "from sklearn.feature_extraction.text import TfidfVectorizer\n",
    "sp = spacy.load('en_core_web_sm')"
   ]
  },
  {
   "cell_type": "code",
   "execution_count": 3,
   "metadata": {},
   "outputs": [],
   "source": [
    "hudsoncsv = pd.read_csv(\"RayHudsonSanitized.csv\")"
   ]
  },
  {
   "cell_type": "code",
   "execution_count": 4,
   "metadata": {},
   "outputs": [
    {
     "data": {
      "text/html": [
       "<div>\n",
       "<style scoped>\n",
       "    .dataframe tbody tr th:only-of-type {\n",
       "        vertical-align: middle;\n",
       "    }\n",
       "\n",
       "    .dataframe tbody tr th {\n",
       "        vertical-align: top;\n",
       "    }\n",
       "\n",
       "    .dataframe thead th {\n",
       "        text-align: right;\n",
       "    }\n",
       "</style>\n",
       "<table border=\"1\" class=\"dataframe\">\n",
       "  <thead>\n",
       "    <tr style=\"text-align: right;\">\n",
       "      <th></th>\n",
       "      <th>Unnamed: 0</th>\n",
       "      <th>Video Name</th>\n",
       "      <th>Thumbnail URL</th>\n",
       "      <th>Video ID</th>\n",
       "      <th>length</th>\n",
       "      <th>date published</th>\n",
       "      <th>transcript</th>\n",
       "      <th>punctuated transcripts</th>\n",
       "    </tr>\n",
       "  </thead>\n",
       "  <tbody>\n",
       "    <tr>\n",
       "      <th>0</th>\n",
       "      <td>2</td>\n",
       "      <td>Barcelona vs Getafe | LA LIGA HIGHLIGHTS | 4/2...</td>\n",
       "      <td>https://i.ytimg.com/vi/P94-YkBNOII/hqdefault.j...</td>\n",
       "      <td>P94-YkBNOII</td>\n",
       "      <td>13 minutes, 9 seconds</td>\n",
       "      <td>1 year ago</td>\n",
       "      <td>this is a wonderful show of class from hetafa...</td>\n",
       "      <td>this is a wonderful show of class from hetafa ...</td>\n",
       "    </tr>\n",
       "    <tr>\n",
       "      <th>1</th>\n",
       "      <td>3</td>\n",
       "      <td>Ray Hudson's Best Reactions Vol. 2: El Clásico</td>\n",
       "      <td>https://i.ytimg.com/vi/Q383qiSYFTA/hqdefault.j...</td>\n",
       "      <td>Q383qiSYFTA</td>\n",
       "      <td>5 minutes, 7 seconds</td>\n",
       "      <td>1 year ago</td>\n",
       "      <td>[Music] vasquez bursting up the right wing sn...</td>\n",
       "      <td>[Music] vasquez, bursting up the right wing, s...</td>\n",
       "    </tr>\n",
       "    <tr>\n",
       "      <th>2</th>\n",
       "      <td>4</td>\n",
       "      <td>Real Madrid vs Barcelona | LALIGA HIGHLIGHTS |...</td>\n",
       "      <td>https://i.ytimg.com/vi/tyOX9p2BWZk/hqdefault.j...</td>\n",
       "      <td>tyOX9p2BWZk</td>\n",
       "      <td>19 minutes, 39 seconds</td>\n",
       "      <td>1 year ago</td>\n",
       "      <td>casius di stefano ramos raul up against barce...</td>\n",
       "      <td>casius di stefano ramos, raul up against barce...</td>\n",
       "    </tr>\n",
       "    <tr>\n",
       "      <th>3</th>\n",
       "      <td>5</td>\n",
       "      <td>Real Sociedad vs Barcelona | LALIGA HIGHLIGHTS...</td>\n",
       "      <td>https://i.ytimg.com/vi/iPgkQE-M8SU/hqdefault.j...</td>\n",
       "      <td>iPgkQE-M8SU</td>\n",
       "      <td>12 minutes, 5 seconds</td>\n",
       "      <td>1 year ago</td>\n",
       "      <td>well as you might have just grabbed a peek th...</td>\n",
       "      <td>well as you might have just grabbed a peek, th...</td>\n",
       "    </tr>\n",
       "    <tr>\n",
       "      <th>4</th>\n",
       "      <td>6</td>\n",
       "      <td>Barcelona vs Huesca | LALIGA HIGHLIGHTS | 3/15...</td>\n",
       "      <td>https://i.ytimg.com/vi/vPiKCMo7trw/hqdefault.j...</td>\n",
       "      <td>vPiKCMo7trw</td>\n",
       "      <td>12 minutes, 29 seconds</td>\n",
       "      <td>1 year ago</td>\n",
       "      <td>up shorts in honor of the man that used to we...</td>\n",
       "      <td>up shorts in honor of the man that used to wea...</td>\n",
       "    </tr>\n",
       "  </tbody>\n",
       "</table>\n",
       "</div>"
      ],
      "text/plain": [
       "   Unnamed: 0                                         Video Name  \\\n",
       "0           2  Barcelona vs Getafe | LA LIGA HIGHLIGHTS | 4/2...   \n",
       "1           3     Ray Hudson's Best Reactions Vol. 2: El Clásico   \n",
       "2           4  Real Madrid vs Barcelona | LALIGA HIGHLIGHTS |...   \n",
       "3           5  Real Sociedad vs Barcelona | LALIGA HIGHLIGHTS...   \n",
       "4           6  Barcelona vs Huesca | LALIGA HIGHLIGHTS | 3/15...   \n",
       "\n",
       "                                       Thumbnail URL     Video ID  \\\n",
       "0  https://i.ytimg.com/vi/P94-YkBNOII/hqdefault.j...  P94-YkBNOII   \n",
       "1  https://i.ytimg.com/vi/Q383qiSYFTA/hqdefault.j...  Q383qiSYFTA   \n",
       "2  https://i.ytimg.com/vi/tyOX9p2BWZk/hqdefault.j...  tyOX9p2BWZk   \n",
       "3  https://i.ytimg.com/vi/iPgkQE-M8SU/hqdefault.j...  iPgkQE-M8SU   \n",
       "4  https://i.ytimg.com/vi/vPiKCMo7trw/hqdefault.j...  vPiKCMo7trw   \n",
       "\n",
       "                   length date published  \\\n",
       "0   13 minutes, 9 seconds     1 year ago   \n",
       "1    5 minutes, 7 seconds     1 year ago   \n",
       "2  19 minutes, 39 seconds     1 year ago   \n",
       "3   12 minutes, 5 seconds     1 year ago   \n",
       "4  12 minutes, 29 seconds     1 year ago   \n",
       "\n",
       "                                          transcript  \\\n",
       "0   this is a wonderful show of class from hetafa...   \n",
       "1   [Music] vasquez bursting up the right wing sn...   \n",
       "2   casius di stefano ramos raul up against barce...   \n",
       "3   well as you might have just grabbed a peek th...   \n",
       "4   up shorts in honor of the man that used to we...   \n",
       "\n",
       "                              punctuated transcripts  \n",
       "0  this is a wonderful show of class from hetafa ...  \n",
       "1  [Music] vasquez, bursting up the right wing, s...  \n",
       "2  casius di stefano ramos, raul up against barce...  \n",
       "3  well as you might have just grabbed a peek, th...  \n",
       "4  up shorts in honor of the man that used to wea...  "
      ]
     },
     "execution_count": 4,
     "metadata": {},
     "output_type": "execute_result"
    }
   ],
   "source": [
    "hudsoncsv.head()"
   ]
  },
  {
   "cell_type": "code",
   "execution_count": 5,
   "metadata": {},
   "outputs": [],
   "source": [
    "texts = hudsoncsv['punctuated transcripts']"
   ]
  },
  {
   "cell_type": "code",
   "execution_count": 6,
   "metadata": {},
   "outputs": [
    {
     "data": {
      "text/plain": [
       "0    this is a wonderful show of class from hetafa ...\n",
       "1    [Music] vasquez, bursting up the right wing, s...\n",
       "2    casius di stefano ramos, raul up against barce...\n",
       "3    well as you might have just grabbed a peek, th...\n",
       "4    up shorts in honor of the man that used to wea...\n",
       "Name: punctuated transcripts, dtype: object"
      ]
     },
     "execution_count": 6,
     "metadata": {},
     "output_type": "execute_result"
    }
   ],
   "source": [
    "texts.head()"
   ]
  },
  {
   "cell_type": "code",
   "execution_count": 9,
   "metadata": {},
   "outputs": [],
   "source": [
    "tokenizer = AutoTokenizer.from_pretrained('sentence-transformers/bert-base-nli-mean-tokens')\n",
    "model = AutoModel.from_pretrained('sentence-transformers/bert-base-nli-mean-tokens')"
   ]
  },
  {
   "cell_type": "code",
   "execution_count": 11,
   "metadata": {},
   "outputs": [],
   "source": [
    "def series_to_sents(series_in):\n",
    "    list = series_in.tolist()\n",
    "    sentence_list = []\n",
    "    for transcript in list:\n",
    "        sentences = sent_tokenize(transcript)\n",
    "        sentence_list.append(sentences)\n",
    "\n",
    "    return sentence_list"
   ]
  },
  {
   "cell_type": "code",
   "execution_count": 59,
   "metadata": {},
   "outputs": [],
   "source": [
    "sentences = series_to_sents(texts)\n",
    "all_sents = [x for y in sentences for x in y]"
   ]
  },
  {
   "cell_type": "code",
   "execution_count": 67,
   "metadata": {},
   "outputs": [],
   "source": [
    "master_string = \"\"\n",
    "for sent in all_sents:\n",
    "    sent = sent + \" \"\n",
    "    master_string += sent"
   ]
  },
  {
   "cell_type": "code",
   "execution_count": 68,
   "metadata": {},
   "outputs": [],
   "source": [
    "vectorizer = TfidfVectorizer()\n",
    "X = vectorizer.fit_transform([master_string])\n",
    "feature_names = vectorizer.get_feature_names()\n",
    "dense = X.todense()\n",
    "denselist = dense.tolist()\n",
    "tfidf_df = pd.DataFrame(denselist, columns=feature_names)"
   ]
  },
  {
   "cell_type": "code",
   "execution_count": 70,
   "metadata": {},
   "outputs": [],
   "source": [
    "tfidf_df.head()\n",
    "tfidf_df.to_csv(\"hudson_word_freqs.csv\")"
   ]
  },
  {
   "cell_type": "code",
   "execution_count": 20,
   "metadata": {},
   "outputs": [],
   "source": [
    "def get_POS(text_list):\n",
    "    POS_arr = []\n",
    "    for line in text_list:\n",
    "        sent_pos_arr = []\n",
    "        sent_tag_arr = []\n",
    "        sp_out = sp(line)\n",
    "        tokenized = []\n",
    "        for token in sp_out:\n",
    "            tokenized.append(token)\n",
    "            sent_pos_arr.append(token.pos_)\n",
    "            sent_tag_arr.append(token.tag_)\n",
    "        text_pos_dict = {\"text\": tokenized, \"pos\": sent_pos_arr, \"tag\": sent_tag_arr}\n",
    "        POS_arr.append(text_pos_dict)\n",
    "    return POS_arr"
   ]
  },
  {
   "cell_type": "code",
   "execution_count": 34,
   "metadata": {},
   "outputs": [],
   "source": [
    "def gen_nouns_prn(simile_w_pos):\n",
    "    simile_nouns = []\n",
    "    for entry in simile_w_pos:\n",
    "        entry_nouns = []\n",
    "        for idx in range(len(entry['pos'])):\n",
    "            if entry['pos'][idx] in ['NOUN', 'PRON']:\n",
    "                entry_nouns.append(entry['text'][idx])\n",
    "        simile_nouns.append(entry_nouns)\n",
    "    flat_nouns = [str(x) for y in simile_nouns for x in y]\n",
    "    return flat_nouns"
   ]
  },
  {
   "cell_type": "code",
   "execution_count": 43,
   "metadata": {},
   "outputs": [],
   "source": [
    "def text_to_nouns_prn(text_list):\n",
    "    pos_arr = get_POS(text_list)\n",
    "    nouns_prn = gen_nouns_prn(pos_arr)\n",
    "    outstring = \"\"\n",
    "    for word in nouns_prn:\n",
    "        word = word + ' '\n",
    "        outstring += word\n",
    "    return outstring\n"
   ]
  },
  {
   "cell_type": "code",
   "execution_count": 71,
   "metadata": {},
   "outputs": [],
   "source": [
    "def gen_noun_pairs(text_list):\n",
    "    pos_arr = get_POS(text_list)\n",
    "    flat_noun_prn = gen_nouns_prn(pos_arr)\n",
    "    noun_pairs = []\n",
    "    for idx in range(len(flat_noun_prn)-1):\n",
    "        noun_pair = (flat_noun_prn[idx], flat_noun_prn[idx+1])\n",
    "        noun_pairs.append(noun_pair)\n",
    "    return noun_pairs\n",
    "\n"
   ]
  },
  {
   "cell_type": "code",
   "execution_count": null,
   "metadata": {},
   "outputs": [],
   "source": []
  }
 ],
 "metadata": {
  "kernelspec": {
   "display_name": "Python 3",
   "language": "python",
   "name": "python3"
  },
  "language_info": {
   "codemirror_mode": {
    "name": "ipython",
    "version": 3
   },
   "file_extension": ".py",
   "mimetype": "text/x-python",
   "name": "python",
   "nbconvert_exporter": "python",
   "pygments_lexer": "ipython3",
   "version": "3.7.9"
  },
  "orig_nbformat": 4,
  "vscode": {
   "interpreter": {
    "hash": "fc22371f3870926dbbcdf04161196d7334d8dc09d0b069ea32b843c425bf39e1"
   }
  }
 },
 "nbformat": 4,
 "nbformat_minor": 2
}
