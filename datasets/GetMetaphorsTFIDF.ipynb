{
 "cells": [
  {
   "cell_type": "code",
   "execution_count": 1,
   "metadata": {},
   "outputs": [],
   "source": [
    "import pandas as pd\n",
    "import matplotlib.pyplot as plt\n",
    "import nltk\n",
    "from nltk.tokenize import sent_tokenize\n",
    "import torch\n",
    "from transformers import AutoTokenizer, AutoModel\n",
    "import spacy\n",
    "from sklearn.metrics.pairwise import cosine_similarity\n",
    "from sklearn.feature_extraction.text import TfidfVectorizer\n",
    "sp = spacy.load('en_core_web_sm')"
   ]
  },
  {
   "cell_type": "code",
   "execution_count": 2,
   "metadata": {},
   "outputs": [],
   "source": [
    "hudsoncsv = pd.read_csv(\"RayHudsonSanitized.csv\")"
   ]
  },
  {
   "cell_type": "code",
   "execution_count": 3,
   "metadata": {},
   "outputs": [],
   "source": [
    "texts = hudsoncsv['punctuated transcripts']"
   ]
  },
  {
   "cell_type": "code",
   "execution_count": 4,
   "metadata": {},
   "outputs": [],
   "source": [
    "tf_idf_df = pd.read_csv(\"hudson_word_freqs.csv\")"
   ]
  },
  {
   "cell_type": "code",
   "execution_count": 5,
   "metadata": {},
   "outputs": [
    {
     "data": {
      "text/html": [
       "<div>\n",
       "<style scoped>\n",
       "    .dataframe tbody tr th:only-of-type {\n",
       "        vertical-align: middle;\n",
       "    }\n",
       "\n",
       "    .dataframe tbody tr th {\n",
       "        vertical-align: top;\n",
       "    }\n",
       "\n",
       "    .dataframe thead th {\n",
       "        text-align: right;\n",
       "    }\n",
       "</style>\n",
       "<table border=\"1\" class=\"dataframe\">\n",
       "  <thead>\n",
       "    <tr style=\"text-align: right;\">\n",
       "      <th></th>\n",
       "      <th>Unnamed: 0</th>\n",
       "      <th>000</th>\n",
       "      <th>10</th>\n",
       "      <th>100</th>\n",
       "      <th>101</th>\n",
       "      <th>10th</th>\n",
       "      <th>11</th>\n",
       "      <th>110</th>\n",
       "      <th>12</th>\n",
       "      <th>128</th>\n",
       "      <th>...</th>\n",
       "      <th>zombie</th>\n",
       "      <th>zomboni</th>\n",
       "      <th>zone</th>\n",
       "      <th>zoo</th>\n",
       "      <th>zoom</th>\n",
       "      <th>zooming</th>\n",
       "      <th>zorro</th>\n",
       "      <th>zubizarreta</th>\n",
       "      <th>zuzu</th>\n",
       "      <th>álvarez</th>\n",
       "    </tr>\n",
       "  </thead>\n",
       "  <tbody>\n",
       "    <tr>\n",
       "      <th>0</th>\n",
       "      <td>0</td>\n",
       "      <td>0.000599</td>\n",
       "      <td>0.003444</td>\n",
       "      <td>0.000599</td>\n",
       "      <td>0.00015</td>\n",
       "      <td>0.00015</td>\n",
       "      <td>0.003743</td>\n",
       "      <td>0.00015</td>\n",
       "      <td>0.001348</td>\n",
       "      <td>0.00015</td>\n",
       "      <td>...</td>\n",
       "      <td>0.00015</td>\n",
       "      <td>0.00015</td>\n",
       "      <td>0.001797</td>\n",
       "      <td>0.00015</td>\n",
       "      <td>0.000599</td>\n",
       "      <td>0.00015</td>\n",
       "      <td>0.000299</td>\n",
       "      <td>0.00015</td>\n",
       "      <td>0.00015</td>\n",
       "      <td>0.00015</td>\n",
       "    </tr>\n",
       "  </tbody>\n",
       "</table>\n",
       "<p>1 rows × 9283 columns</p>\n",
       "</div>"
      ],
      "text/plain": [
       "   Unnamed: 0       000        10       100      101     10th        11  \\\n",
       "0           0  0.000599  0.003444  0.000599  0.00015  0.00015  0.003743   \n",
       "\n",
       "       110        12      128  ...   zombie  zomboni      zone      zoo  \\\n",
       "0  0.00015  0.001348  0.00015  ...  0.00015  0.00015  0.001797  0.00015   \n",
       "\n",
       "       zoom  zooming     zorro  zubizarreta     zuzu  álvarez  \n",
       "0  0.000599  0.00015  0.000299      0.00015  0.00015  0.00015  \n",
       "\n",
       "[1 rows x 9283 columns]"
      ]
     },
     "execution_count": 5,
     "metadata": {},
     "output_type": "execute_result"
    }
   ],
   "source": [
    "tf_idf_df.head()"
   ]
  },
  {
   "cell_type": "code",
   "execution_count": 6,
   "metadata": {},
   "outputs": [],
   "source": [
    "def tag_pos(line):\n",
    "    sent_pos_arr = []\n",
    "    sent_tag_arr = []\n",
    "    sp_out = sp(line)\n",
    "    tokenized = []\n",
    "    for token in sp_out:\n",
    "        tokenized.append(token)\n",
    "        sent_pos_arr.append(token.pos_)\n",
    "        sent_tag_arr.append(token.tag_)\n",
    "    text_pos_dict = {\"text\": tokenized, \"pos\": sent_pos_arr, \"tag\": sent_tag_arr}\n",
    "    return text_pos_dict"
   ]
  },
  {
   "cell_type": "code",
   "execution_count": 9,
   "metadata": {},
   "outputs": [
    {
     "name": "stdout",
     "output_type": "stream",
     "text": [
      "{'text': [Fred, is, a, gem], 'pos': ['PROPN', 'AUX', 'DET', 'NOUN'], 'tag': ['NNP', 'VBZ', 'DT', 'NN']}\n"
     ]
    }
   ],
   "source": [
    "print(tag_pos('Fred is a gem'))"
   ]
  },
  {
   "cell_type": "code",
   "execution_count": 32,
   "metadata": {},
   "outputs": [],
   "source": [
    "def filter_hudson_df(text_in):\n",
    "    metaphor_noun_list = []\n",
    "    metaphor_sentence_list = []\n",
    "    sentence_list = sent_tokenize(text_in)\n",
    "    for idx in range(len(sentence_list)):\n",
    "        index_memory = []\n",
    "        is_idx = []\n",
    "        verb_idx = []\n",
    "        start_noun = False\n",
    "        start_verb = False\n",
    "        sentence_noun_list = []\n",
    "        sentence_dict = tag_pos(sentence_list[idx])\n",
    "        for i in range(len(sentence_dict['text'])):\n",
    "            if start_verb:\n",
    "                if sentence_dict['pos'][i] == 'VERB':\n",
    "                    verb_idx.append(i)\n",
    "            if start_noun:\n",
    "                if sentence_dict['text'][i].text == 'is' or \\\n",
    "                    sentence_dict['text'][i].text == 'was' or \\\n",
    "                        sentence_dict['text'][i].text == '\\'s':\n",
    "                            is_idx.append(i)\n",
    "                            start_is = True\n",
    "            if sentence_dict['pos'][i] in ['NOUN', 'PRON', 'PROPN']:\n",
    "                index_memory.append(i)\n",
    "                sentence_noun_list.append(sentence_dict['text'][i].text)\n",
    "                start_noun = True\n",
    "        if len(sentence_noun_list) >= 2 and is_idx < index_memory[-1]:\n",
    "            metaphor_noun_list.append(sentence_noun_list)\n",
    "            metaphor_sentence_list.append(sentence_list[idx])\n",
    "    return metaphor_noun_list, metaphor_sentence_list\n"
   ]
  },
  {
   "cell_type": "code",
   "execution_count": 33,
   "metadata": {},
   "outputs": [
    {
     "data": {
      "text/plain": [
       "([['He', 'monster']], ['He was a monster.'])"
      ]
     },
     "execution_count": 33,
     "metadata": {},
     "output_type": "execute_result"
    }
   ],
   "source": [
    "filter_hudson_df(\"He ran like the wind. He was a monster.\")"
   ]
  },
  {
   "cell_type": "code",
   "execution_count": 41,
   "metadata": {},
   "outputs": [
    {
     "name": "stderr",
     "output_type": "stream",
     "text": [
      "c:\\Users\\tyxia\\AppData\\Local\\Programs\\Python\\Python37\\lib\\site-packages\\numpy\\core\\_asarray.py:83: VisibleDeprecationWarning: Creating an ndarray from ragged nested sequences (which is a list-or-tuple of lists-or-tuples-or ndarrays with different lengths or shapes) is deprecated. If you meant to do this, you must specify 'dtype=object' when creating the ndarray\n",
      "  return array(a, dtype, copy=False, order=order)\n"
     ]
    }
   ],
   "source": [
    "metaphor_df = texts.to_frame()\n",
    "metaphor_df['sentences'], metaphor_df['nouns'] = zip(*metaphor_df['punctuated transcripts'].apply(filter_hudson_df))\n",
    "# metaphor_df['metaphor_sents'], metaphor_df['metaphor_nouns'] = texts.apply(filter_hudson_df)"
   ]
  },
  {
   "cell_type": "code",
   "execution_count": 42,
   "metadata": {},
   "outputs": [
    {
     "data": {
      "text/html": [
       "<div>\n",
       "<style scoped>\n",
       "    .dataframe tbody tr th:only-of-type {\n",
       "        vertical-align: middle;\n",
       "    }\n",
       "\n",
       "    .dataframe tbody tr th {\n",
       "        vertical-align: top;\n",
       "    }\n",
       "\n",
       "    .dataframe thead th {\n",
       "        text-align: right;\n",
       "    }\n",
       "</style>\n",
       "<table border=\"1\" class=\"dataframe\">\n",
       "  <thead>\n",
       "    <tr style=\"text-align: right;\">\n",
       "      <th></th>\n",
       "      <th>punctuated transcripts</th>\n",
       "      <th>sentences</th>\n",
       "      <th>nouns</th>\n",
       "    </tr>\n",
       "  </thead>\n",
       "  <tbody>\n",
       "    <tr>\n",
       "      <th>0</th>\n",
       "      <td>this is a wonderful show of class from hetafa ...</td>\n",
       "      <td>[[this, show, class, hetafa, they, quote, del,...</td>\n",
       "      <td>[this is a wonderful show of class from hetafa...</td>\n",
       "    </tr>\n",
       "    <tr>\n",
       "      <th>1</th>\n",
       "      <td>[Music] vasquez, bursting up the right wing, s...</td>\n",
       "      <td>[[it, run, ball, benzema, peacock, his, hat], ...</td>\n",
       "      <td>[it's a wonderful run, passed by verdi, beauti...</td>\n",
       "    </tr>\n",
       "    <tr>\n",
       "      <th>2</th>\n",
       "      <td>casius di stefano ramos, raul up against barce...</td>\n",
       "      <td>[[rebound-, he, who], [that, chase, years, age...</td>\n",
       "      <td>[mengesa off the rebound- and he's who., that ...</td>\n",
       "    </tr>\n",
       "    <tr>\n",
       "      <th>3</th>\n",
       "      <td>well as you might have just grabbed a peek, th...</td>\n",
       "      <td>[[it, beneficiary, hesitancy, frankie, deyoung...</td>\n",
       "      <td>[well, it was the beneficiary of some hesitanc...</td>\n",
       "    </tr>\n",
       "    <tr>\n",
       "      <th>4</th>\n",
       "      <td>up shorts in honor of the man that used to wea...</td>\n",
       "      <td>[[shorts, honor, man, that, number, club, who,...</td>\n",
       "      <td>[up shorts in honor of the man that used to we...</td>\n",
       "    </tr>\n",
       "  </tbody>\n",
       "</table>\n",
       "</div>"
      ],
      "text/plain": [
       "                              punctuated transcripts  \\\n",
       "0  this is a wonderful show of class from hetafa ...   \n",
       "1  [Music] vasquez, bursting up the right wing, s...   \n",
       "2  casius di stefano ramos, raul up against barce...   \n",
       "3  well as you might have just grabbed a peek, th...   \n",
       "4  up shorts in honor of the man that used to wea...   \n",
       "\n",
       "                                           sentences  \\\n",
       "0  [[this, show, class, hetafa, they, quote, del,...   \n",
       "1  [[it, run, ball, benzema, peacock, his, hat], ...   \n",
       "2  [[rebound-, he, who], [that, chase, years, age...   \n",
       "3  [[it, beneficiary, hesitancy, frankie, deyoung...   \n",
       "4  [[shorts, honor, man, that, number, club, who,...   \n",
       "\n",
       "                                               nouns  \n",
       "0  [this is a wonderful show of class from hetafa...  \n",
       "1  [it's a wonderful run, passed by verdi, beauti...  \n",
       "2  [mengesa off the rebound- and he's who., that ...  \n",
       "3  [well, it was the beneficiary of some hesitanc...  \n",
       "4  [up shorts in honor of the man that used to we...  "
      ]
     },
     "execution_count": 42,
     "metadata": {},
     "output_type": "execute_result"
    }
   ],
   "source": [
    "metaphor_df.head()"
   ]
  },
  {
   "cell_type": "code",
   "execution_count": 43,
   "metadata": {},
   "outputs": [],
   "source": [
    "metaphor_df.to_csv(\"RayHudsonMetaphorBroad.csv\")"
   ]
  },
  {
   "cell_type": "code",
   "execution_count": null,
   "metadata": {},
   "outputs": [],
   "source": []
  }
 ],
 "metadata": {
  "kernelspec": {
   "display_name": "Python 3",
   "language": "python",
   "name": "python3"
  },
  "language_info": {
   "codemirror_mode": {
    "name": "ipython",
    "version": 3
   },
   "file_extension": ".py",
   "mimetype": "text/x-python",
   "name": "python",
   "nbconvert_exporter": "python",
   "pygments_lexer": "ipython3",
   "version": "3.7.9"
  },
  "orig_nbformat": 4,
  "vscode": {
   "interpreter": {
    "hash": "fc22371f3870926dbbcdf04161196d7334d8dc09d0b069ea32b843c425bf39e1"
   }
  }
 },
 "nbformat": 4,
 "nbformat_minor": 2
}
