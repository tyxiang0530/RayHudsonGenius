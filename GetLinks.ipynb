{
 "cells": [
  {
   "cell_type": "code",
   "execution_count": 1,
   "metadata": {},
   "outputs": [],
   "source": [
    "import scrapetube\n",
    "import pickle\n",
    "import pandas as pd\n",
    "import datetime"
   ]
  },
  {
   "cell_type": "code",
   "execution_count": 28,
   "metadata": {},
   "outputs": [
    {
     "name": "stdout",
     "output_type": "stream",
     "text": [
      "['alavã©s', 'athletic bilbao', 'atlã©tico madrid', 'barcelona', 'cã¡diz', 'celta vigo', 'deportivo la coruã±a', 'eibar', 'espanyol', 'elche', 'getafe', 'girona', 'granada', 'huesca', 'osasuna', 'valladolid', 'las palmas', 'leganã©s', 'levante', 'mã¡laga', 'real betis', 'real madrid', 'real sociedad', 'sevilla', 'valencia', 'villarreal']\n"
     ]
    }
   ],
   "source": [
    "text_file = open(\"la_liga_teams.txt\", \"r\")\n",
    "team_arr = text_file.readlines()\n",
    "team_arr = [team.replace('\\n', '').lower() for team in team_arr]\n",
    "print(team_arr)"
   ]
  },
  {
   "cell_type": "code",
   "execution_count": 31,
   "metadata": {},
   "outputs": [],
   "source": [
    "def check_team_instring(stringcheck):\n",
    "    return bool([ele for ele in team_arr if(ele in stringcheck)])"
   ]
  },
  {
   "cell_type": "code",
   "execution_count": 13,
   "metadata": {},
   "outputs": [],
   "source": [
    "def raw_vid_to_dict(sample_vid):\n",
    "    videoid = (sample_vid['videoId'])\n",
    "    thumbnail_url = sample_vid['thumbnail']['thumbnails'][0]['url']\n",
    "    title = sample_vid['title']['runs'][0]['text']\n",
    "    length = sample_vid['lengthText']['accessibility']['accessibilityData']['label']\n",
    "    upload_date = sample_vid['publishedTimeText']['simpleText']\n",
    "    vid_dict = {'Video Name': title, 'Thumbnail URL': thumbnail_url, 'Video ID': videoid,\n",
    "        'length' : length, 'date published': upload_date}\n",
    "    return vid_dict"
   ]
  },
  {
   "cell_type": "code",
   "execution_count": 14,
   "metadata": {},
   "outputs": [],
   "source": [
    "def channel_to_df_fromscrape(channel_in, identifier_string):\n",
    "    channel_vids = scrapetube.get_channel(channel_url=channel_in)\n",
    "    vid_lim = 0\n",
    "    video_array = []\n",
    "\n",
    "    for video in channel_vids:\n",
    "        video_array.append(video)\n",
    "    try:\n",
    "        dbfile = open('BeInUSAvids', 'ab')\n",
    "        pickle.dump(video_array, dbfile)\n",
    "        dbfile.close()\n",
    "    except Exception as e:\n",
    "        print(e)\n",
    "        \n",
    "    dict_list = []\n",
    "    for video in video_array:\n",
    "        vid_dict = raw_vid_to_dict(video)\n",
    "        titlestring = vid_dict['Video Name'].lower()\n",
    "        if 'la liga' in titlestring and ('2020' in titlestring or '2021' in titlestring) \\\n",
    "            and ('highlights' in titlestring):\n",
    "            dict_list.append(raw_vid_to_dict(video))\n",
    "    video_df = pd.DataFrame(dict_list)\n",
    "    video_df.to_csv(identifier_string + \".csv\")\n",
    "\n",
    "    return video_df"
   ]
  },
  {
   "cell_type": "code",
   "execution_count": 37,
   "metadata": {},
   "outputs": [],
   "source": [
    "def channel_to_df_frompickle(pickle_obj, identifier_string):\n",
    "    dbfile = open(pickle_obj, 'rb')\n",
    "    db = pickle.load(dbfile)\n",
    "        \n",
    "    dict_list = []\n",
    "    for video in db:\n",
    "        vid_dict = raw_vid_to_dict(video)\n",
    "        titlestring = vid_dict['Video Name'].lower()\n",
    "        if ('la liga' in titlestring or 'laliga' in titlestring or check_team_instring(titlestring)) \\\n",
    "            and ('2020' in titlestring or '2021' in titlestring) \\\n",
    "            and ('highlights' in titlestring) or 'ray hudson' in titlestring:\n",
    "            dict_list.append(vid_dict)\n",
    "    video_df = pd.DataFrame(dict_list)\n",
    "    video_df.to_csv(identifier_string + \".csv\")\n",
    "\n",
    "    return video_df"
   ]
  },
  {
   "cell_type": "code",
   "execution_count": 38,
   "metadata": {},
   "outputs": [],
   "source": [
    "def cleanvids(pickle_obj, identifier_string):\n",
    "    dbfile = open(pickle_obj, 'rb')\n",
    "    db = pickle.load(dbfile)\n",
    "        \n",
    "    dict_list = []\n",
    "    for video in db:\n",
    "        vid_dict = raw_vid_to_dict(video)\n",
    "        dict_list.append(vid_dict)\n",
    "    video_df = pd.DataFrame(dict_list)\n",
    "    video_df.to_csv(identifier_string + \".csv\")\n",
    "\n",
    "    return video_df"
   ]
  },
  {
   "cell_type": "code",
   "execution_count": 21,
   "metadata": {},
   "outputs": [],
   "source": [
    "# for reading also binary mode is important\n",
    "dbfile = open('BeInUSAvids', 'rb')\n",
    "db = pickle.load(dbfile)\n"
   ]
  },
  {
   "cell_type": "code",
   "execution_count": 24,
   "metadata": {},
   "outputs": [
    {
     "data": {
      "text/html": [
       "<div>\n",
       "<style scoped>\n",
       "    .dataframe tbody tr th:only-of-type {\n",
       "        vertical-align: middle;\n",
       "    }\n",
       "\n",
       "    .dataframe tbody tr th {\n",
       "        vertical-align: top;\n",
       "    }\n",
       "\n",
       "    .dataframe thead th {\n",
       "        text-align: right;\n",
       "    }\n",
       "</style>\n",
       "<table border=\"1\" class=\"dataframe\">\n",
       "  <thead>\n",
       "    <tr style=\"text-align: right;\">\n",
       "      <th></th>\n",
       "      <th>Video Name</th>\n",
       "      <th>Thumbnail URL</th>\n",
       "      <th>Video ID</th>\n",
       "      <th>length</th>\n",
       "      <th>date published</th>\n",
       "    </tr>\n",
       "  </thead>\n",
       "  <tbody>\n",
       "    <tr>\n",
       "      <th>0</th>\n",
       "      <td>Messi's Argentina gets ready 🇦🇷</td>\n",
       "      <td>https://i.ytimg.com/vi/DfL43rsKHOs/hqdefault.j...</td>\n",
       "      <td>DfL43rsKHOs</td>\n",
       "      <td>3 minutes, 6 seconds</td>\n",
       "      <td>2 hours ago</td>\n",
       "    </tr>\n",
       "    <tr>\n",
       "      <th>1</th>\n",
       "      <td>🇲🇦  Morocco the big surprise of the semi-finals</td>\n",
       "      <td>https://i.ytimg.com/vi/HN2rO10FBew/hqdefault.j...</td>\n",
       "      <td>HN2rO10FBew</td>\n",
       "      <td>3 minutes, 10 seconds</td>\n",
       "      <td>3 hours ago</td>\n",
       "    </tr>\n",
       "    <tr>\n",
       "      <th>2</th>\n",
       "      <td>🇭🇷 Croatia warms up engines</td>\n",
       "      <td>https://i.ytimg.com/vi/Vg5nZqoDYq0/hqdefault.j...</td>\n",
       "      <td>Vg5nZqoDYq0</td>\n",
       "      <td>3 minutes, 8 seconds</td>\n",
       "      <td>4 hours ago</td>\n",
       "    </tr>\n",
       "    <tr>\n",
       "      <th>3</th>\n",
       "      <td>France prepares for the Semi-Finals</td>\n",
       "      <td>https://i.ytimg.com/vi/S-w9dbo6zjc/hqdefault.j...</td>\n",
       "      <td>S-w9dbo6zjc</td>\n",
       "      <td>3 minutes, 3 seconds</td>\n",
       "      <td>5 hours ago</td>\n",
       "    </tr>\n",
       "    <tr>\n",
       "      <th>4</th>\n",
       "      <td>Milano Premier Padel FINAL | GALAN/LEBRON vs R...</td>\n",
       "      <td>https://i.ytimg.com/vi/X-dgNu0jqTA/hqdefault.j...</td>\n",
       "      <td>X-dgNu0jqTA</td>\n",
       "      <td>8 minutes, 47 seconds</td>\n",
       "      <td>1 day ago</td>\n",
       "    </tr>\n",
       "    <tr>\n",
       "      <th>...</th>\n",
       "      <td>...</td>\n",
       "      <td>...</td>\n",
       "      <td>...</td>\n",
       "      <td>...</td>\n",
       "      <td>...</td>\n",
       "    </tr>\n",
       "    <tr>\n",
       "      <th>7185</th>\n",
       "      <td>Ray Hudson Raw - La Dolce Vita!</td>\n",
       "      <td>https://i.ytimg.com/vi/jG2Rgzms97U/hqdefault.j...</td>\n",
       "      <td>jG2Rgzms97U</td>\n",
       "      <td>1 minute, 44 seconds</td>\n",
       "      <td>9 years ago</td>\n",
       "    </tr>\n",
       "    <tr>\n",
       "      <th>7186</th>\n",
       "      <td>Ray Hudson Raw - A Shuddering Climax</td>\n",
       "      <td>https://i.ytimg.com/vi/UEe07wszyaQ/hqdefault.j...</td>\n",
       "      <td>UEe07wszyaQ</td>\n",
       "      <td>1 minute, 55 seconds</td>\n",
       "      <td>9 years ago</td>\n",
       "    </tr>\n",
       "    <tr>\n",
       "      <th>7187</th>\n",
       "      <td>Ray Hudson Raw - 'Wonderland' Starts</td>\n",
       "      <td>https://i.ytimg.com/vi/mGJQ6xCNGF8/hqdefault.j...</td>\n",
       "      <td>mGJQ6xCNGF8</td>\n",
       "      <td>2 minutes, 9 seconds</td>\n",
       "      <td>9 years ago</td>\n",
       "    </tr>\n",
       "    <tr>\n",
       "      <th>7188</th>\n",
       "      <td>Ray Hudson Raw - Major Clashes Are Afoot!</td>\n",
       "      <td>https://i.ytimg.com/vi/Pf_c5Oi-95I/hqdefault.j...</td>\n",
       "      <td>Pf_c5Oi-95I</td>\n",
       "      <td>2 minutes</td>\n",
       "      <td>9 years ago</td>\n",
       "    </tr>\n",
       "    <tr>\n",
       "      <th>7189</th>\n",
       "      <td>EXCLUSIVE VIDEO: Cristiano Ronaldo talks Messi</td>\n",
       "      <td>https://i.ytimg.com/vi/VaxwSkLq_A4/hqdefault.j...</td>\n",
       "      <td>VaxwSkLq_A4</td>\n",
       "      <td>1 minute, 44 seconds</td>\n",
       "      <td>10 years ago</td>\n",
       "    </tr>\n",
       "  </tbody>\n",
       "</table>\n",
       "<p>7190 rows × 5 columns</p>\n",
       "</div>"
      ],
      "text/plain": [
       "                                             Video Name  \\\n",
       "0                       Messi's Argentina gets ready 🇦🇷   \n",
       "1       🇲🇦  Morocco the big surprise of the semi-finals   \n",
       "2                           🇭🇷 Croatia warms up engines   \n",
       "3                   France prepares for the Semi-Finals   \n",
       "4     Milano Premier Padel FINAL | GALAN/LEBRON vs R...   \n",
       "...                                                 ...   \n",
       "7185                    Ray Hudson Raw - La Dolce Vita!   \n",
       "7186               Ray Hudson Raw - A Shuddering Climax   \n",
       "7187               Ray Hudson Raw - 'Wonderland' Starts   \n",
       "7188          Ray Hudson Raw - Major Clashes Are Afoot!   \n",
       "7189     EXCLUSIVE VIDEO: Cristiano Ronaldo talks Messi   \n",
       "\n",
       "                                          Thumbnail URL     Video ID  \\\n",
       "0     https://i.ytimg.com/vi/DfL43rsKHOs/hqdefault.j...  DfL43rsKHOs   \n",
       "1     https://i.ytimg.com/vi/HN2rO10FBew/hqdefault.j...  HN2rO10FBew   \n",
       "2     https://i.ytimg.com/vi/Vg5nZqoDYq0/hqdefault.j...  Vg5nZqoDYq0   \n",
       "3     https://i.ytimg.com/vi/S-w9dbo6zjc/hqdefault.j...  S-w9dbo6zjc   \n",
       "4     https://i.ytimg.com/vi/X-dgNu0jqTA/hqdefault.j...  X-dgNu0jqTA   \n",
       "...                                                 ...          ...   \n",
       "7185  https://i.ytimg.com/vi/jG2Rgzms97U/hqdefault.j...  jG2Rgzms97U   \n",
       "7186  https://i.ytimg.com/vi/UEe07wszyaQ/hqdefault.j...  UEe07wszyaQ   \n",
       "7187  https://i.ytimg.com/vi/mGJQ6xCNGF8/hqdefault.j...  mGJQ6xCNGF8   \n",
       "7188  https://i.ytimg.com/vi/Pf_c5Oi-95I/hqdefault.j...  Pf_c5Oi-95I   \n",
       "7189  https://i.ytimg.com/vi/VaxwSkLq_A4/hqdefault.j...  VaxwSkLq_A4   \n",
       "\n",
       "                     length date published  \n",
       "0      3 minutes, 6 seconds    2 hours ago  \n",
       "1     3 minutes, 10 seconds    3 hours ago  \n",
       "2      3 minutes, 8 seconds    4 hours ago  \n",
       "3      3 minutes, 3 seconds    5 hours ago  \n",
       "4     8 minutes, 47 seconds      1 day ago  \n",
       "...                     ...            ...  \n",
       "7185   1 minute, 44 seconds    9 years ago  \n",
       "7186   1 minute, 55 seconds    9 years ago  \n",
       "7187   2 minutes, 9 seconds    9 years ago  \n",
       "7188              2 minutes    9 years ago  \n",
       "7189   1 minute, 44 seconds   10 years ago  \n",
       "\n",
       "[7190 rows x 5 columns]"
      ]
     },
     "execution_count": 24,
     "metadata": {},
     "output_type": "execute_result"
    }
   ],
   "source": [
    "cleanvids('BeInUSAvids', 'allBEIN')"
   ]
  },
  {
   "cell_type": "code",
   "execution_count": 39,
   "metadata": {},
   "outputs": [],
   "source": [
    "df = channel_to_df_frompickle('BeInUSAvids', 'RayHudson')"
   ]
  }
 ],
 "metadata": {
  "kernelspec": {
   "display_name": "Python 3",
   "language": "python",
   "name": "python3"
  },
  "language_info": {
   "codemirror_mode": {
    "name": "ipython",
    "version": 3
   },
   "file_extension": ".py",
   "mimetype": "text/x-python",
   "name": "python",
   "nbconvert_exporter": "python",
   "pygments_lexer": "ipython3",
   "version": "3.7.9"
  },
  "orig_nbformat": 4,
  "vscode": {
   "interpreter": {
    "hash": "fc22371f3870926dbbcdf04161196d7334d8dc09d0b069ea32b843c425bf39e1"
   }
  }
 },
 "nbformat": 4,
 "nbformat_minor": 2
}
