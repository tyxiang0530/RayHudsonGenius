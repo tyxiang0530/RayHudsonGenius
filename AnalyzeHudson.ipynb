{
 "cells": [
  {
   "cell_type": "code",
   "execution_count": 1,
   "metadata": {},
   "outputs": [],
   "source": [
    "import pandas as pd\n",
    "import numpy as np\n",
    "import matplotlib.pyplot as plt\n",
    "import nltk\n",
    "import spacy\n",
    "sp = spacy.load('en_core_web_sm')"
   ]
  },
  {
   "cell_type": "code",
   "execution_count": 3,
   "metadata": {},
   "outputs": [],
   "source": [
    "import pickle\n",
    "\n",
    "pickle_obj = \"HudsonSimileClauses\"\n",
    "dbfile = open(pickle_obj, 'rb')\n",
    "simile_list = pickle.load(dbfile)"
   ]
  },
  {
   "cell_type": "code",
   "execution_count": 8,
   "metadata": {},
   "outputs": [],
   "source": [
    "def get_POS(text_list):\n",
    "    POS_arr = []\n",
    "    for line in text_list:\n",
    "        sent_pos_arr = []\n",
    "        sent_tag_arr = []\n",
    "        sp_out = sp(line)\n",
    "        tokenized = []\n",
    "        for token in sp_out:\n",
    "            tokenized.append(token)\n",
    "            sent_pos_arr.append(token.pos_)\n",
    "            sent_tag_arr.append(token.tag_)\n",
    "        text_pos_dict = {\"text\": tokenized, \"pos\": sent_pos_arr, \"tag\": sent_tag_arr}\n",
    "        POS_arr.append(text_pos_dict)\n",
    "    return POS_arr"
   ]
  },
  {
   "cell_type": "code",
   "execution_count": 9,
   "metadata": {},
   "outputs": [],
   "source": [
    "simile_w_pos = get_POS(simile_list)"
   ]
  },
  {
   "cell_type": "code",
   "execution_count": 10,
   "metadata": {},
   "outputs": [
    {
     "name": "stdout",
     "output_type": "stream",
     "text": [
      "{'text': [ , a, shark, that, 's, been, in, a, fish, tank, for, a, week, .], 'pos': ['SPACE', 'DET', 'NOUN', 'PRON', 'AUX', 'AUX', 'ADP', 'DET', 'NOUN', 'NOUN', 'ADP', 'DET', 'NOUN', 'PUNCT'], 'tag': ['_SP', 'DT', 'NN', 'WDT', 'VBZ', 'VBN', 'IN', 'DT', 'NN', 'NN', 'IN', 'DT', 'NN', '.']}\n"
     ]
    }
   ],
   "source": [
    "print(simile_w_pos[0])"
   ]
  },
  {
   "cell_type": "code",
   "execution_count": 14,
   "metadata": {},
   "outputs": [],
   "source": [
    "simile_nouns = []\n",
    "for entry in simile_w_pos:\n",
    "    entry_nouns = []\n",
    "    for idx in range(len(entry['pos'])):\n",
    "        if entry['pos'][idx] == 'NOUN':\n",
    "            entry_nouns.append(entry['text'][idx])\n",
    "    simile_nouns.append(entry_nouns)"
   ]
  },
  {
   "cell_type": "code",
   "execution_count": 15,
   "metadata": {},
   "outputs": [
    {
     "name": "stdout",
     "output_type": "stream",
     "text": [
      "[[shark, fish, tank, week], [jack, rabbit, date, whites, barcelona], [spandex, beach], [degrees, rain, wind], [ghost, fog], [bloodhound, center, goal, softness, candlelight], [shark, dentist], [knife, thrower, circus], [skirt, boot], [shark, dentist], [teenager, cell, phone, goalkeeper, back], [turtle], [shower, arrows, back], [skirt, boot], [alligator, itch, one], [penalty], [teams, home, field, advantage], [plumbing, product, list], [brother], [halt, ball], [man, basketball, sweaty, armpits, baseball], [maniac, possess, man, fish, veins, neck, strangers, hair, tears, size, pineapple, chunks, feeling, jubilation, ribcage, moment, rapture], [magnet], [train, hospital, tricks, nursing, home], [Cave], [lumps, coal], [surfer, mushroom, belief, way], [spider, monkey], [], [team, planet], [man], [belly, heavenly-, sitters], [bear, trap], [cat], [boy, seashore, pebbles, shells, portion, truth], [], [diamond], [turkey, season], [feeling, spirit, hurt], [necklace, sledgehammers], [lion, cub, mouth, championship, finals, curtain, career], [claret], [vintner], [peregrine, falcon, peacock, display, plumage], [skydiver, rip, cord, parachute], [baby, need, day, kids, baby, remembereth], [name, football, team, cap], [dolphin], [], [greco, roman, alligator], [bird], [cheerleader, trampoline, way], [], [prom, dress], [cuckoo, clock], [shade, mirror], [pauper, gladiator], [owl, eyes, tiger], [pair, carpet, slippers, pressure, issue], [tale, horror, movie, man, black], [couple, gunslingers], [rainbow, splendor], [studio, steroids, ball, mirrors], [gamble], [lane], [fire], [steel, bear, trap, times], [ghost, fog], [hornet, nest], [lamb, corner], [firecracker], [penalty, kick], [team], [diamond, necklace], [storm], [cake]]\n"
     ]
    }
   ],
   "source": [
    "print(simile_nouns)"
   ]
  },
  {
   "cell_type": "code",
   "execution_count": 21,
   "metadata": {},
   "outputs": [],
   "source": [
    "flat_nouns = [str(x) for y in simile_nouns for x in y]"
   ]
  },
  {
   "cell_type": "code",
   "execution_count": 22,
   "metadata": {},
   "outputs": [
    {
     "name": "stdout",
     "output_type": "stream",
     "text": [
      "['shark', 'fish', 'tank', 'week', 'jack', 'rabbit', 'date', 'whites', 'barcelona', 'spandex', 'beach', 'degrees', 'rain', 'wind', 'ghost', 'fog', 'bloodhound', 'center', 'goal', 'softness', 'candlelight', 'shark', 'dentist', 'knife', 'thrower', 'circus', 'skirt', 'boot', 'shark', 'dentist', 'teenager', 'cell', 'phone', 'goalkeeper', 'back', 'turtle', 'shower', 'arrows', 'back', 'skirt', 'boot', 'alligator', 'itch', 'one', 'penalty', 'teams', 'home', 'field', 'advantage', 'plumbing', 'product', 'list', 'brother', 'halt', 'ball', 'man', 'basketball', 'sweaty', 'armpits', 'baseball', 'maniac', 'possess', 'man', 'fish', 'veins', 'neck', 'strangers', 'hair', 'tears', 'size', 'pineapple', 'chunks', 'feeling', 'jubilation', 'ribcage', 'moment', 'rapture', 'magnet', 'train', 'hospital', 'tricks', 'nursing', 'home', 'Cave', 'lumps', 'coal', 'surfer', 'mushroom', 'belief', 'way', 'spider', 'monkey', 'team', 'planet', 'man', 'belly', 'heavenly-', 'sitters', 'bear', 'trap', 'cat', 'boy', 'seashore', 'pebbles', 'shells', 'portion', 'truth', 'diamond', 'turkey', 'season', 'feeling', 'spirit', 'hurt', 'necklace', 'sledgehammers', 'lion', 'cub', 'mouth', 'championship', 'finals', 'curtain', 'career', 'claret', 'vintner', 'peregrine', 'falcon', 'peacock', 'display', 'plumage', 'skydiver', 'rip', 'cord', 'parachute', 'baby', 'need', 'day', 'kids', 'baby', 'remembereth', 'name', 'football', 'team', 'cap', 'dolphin', 'greco', 'roman', 'alligator', 'bird', 'cheerleader', 'trampoline', 'way', 'prom', 'dress', 'cuckoo', 'clock', 'shade', 'mirror', 'pauper', 'gladiator', 'owl', 'eyes', 'tiger', 'pair', 'carpet', 'slippers', 'pressure', 'issue', 'tale', 'horror', 'movie', 'man', 'black', 'couple', 'gunslingers', 'rainbow', 'splendor', 'studio', 'steroids', 'ball', 'mirrors', 'gamble', 'lane', 'fire', 'steel', 'bear', 'trap', 'times', 'ghost', 'fog', 'hornet', 'nest', 'lamb', 'corner', 'firecracker', 'penalty', 'kick', 'team', 'diamond', 'necklace', 'storm', 'cake']\n"
     ]
    }
   ],
   "source": [
    "print(flat_nouns)"
   ]
  },
  {
   "cell_type": "code",
   "execution_count": 24,
   "metadata": {},
   "outputs": [
    {
     "name": "stdout",
     "output_type": "stream",
     "text": [
      "Counter({'man': 4, 'shark': 3, 'team': 3, 'fish': 2, 'ghost': 2, 'fog': 2, 'dentist': 2, 'skirt': 2, 'boot': 2, 'back': 2, 'alligator': 2, 'penalty': 2, 'home': 2, 'ball': 2, 'feeling': 2, 'way': 2, 'bear': 2, 'trap': 2, 'diamond': 2, 'necklace': 2, 'baby': 2, 'tank': 1, 'week': 1, 'jack': 1, 'rabbit': 1, 'date': 1, 'whites': 1, 'barcelona': 1, 'spandex': 1, 'beach': 1, 'degrees': 1, 'rain': 1, 'wind': 1, 'bloodhound': 1, 'center': 1, 'goal': 1, 'softness': 1, 'candlelight': 1, 'knife': 1, 'thrower': 1, 'circus': 1, 'teenager': 1, 'cell': 1, 'phone': 1, 'goalkeeper': 1, 'turtle': 1, 'shower': 1, 'arrows': 1, 'itch': 1, 'one': 1, 'teams': 1, 'field': 1, 'advantage': 1, 'plumbing': 1, 'product': 1, 'list': 1, 'brother': 1, 'halt': 1, 'basketball': 1, 'sweaty': 1, 'armpits': 1, 'baseball': 1, 'maniac': 1, 'possess': 1, 'veins': 1, 'neck': 1, 'strangers': 1, 'hair': 1, 'tears': 1, 'size': 1, 'pineapple': 1, 'chunks': 1, 'jubilation': 1, 'ribcage': 1, 'moment': 1, 'rapture': 1, 'magnet': 1, 'train': 1, 'hospital': 1, 'tricks': 1, 'nursing': 1, 'Cave': 1, 'lumps': 1, 'coal': 1, 'surfer': 1, 'mushroom': 1, 'belief': 1, 'spider': 1, 'monkey': 1, 'planet': 1, 'belly': 1, 'heavenly-': 1, 'sitters': 1, 'cat': 1, 'boy': 1, 'seashore': 1, 'pebbles': 1, 'shells': 1, 'portion': 1, 'truth': 1, 'turkey': 1, 'season': 1, 'spirit': 1, 'hurt': 1, 'sledgehammers': 1, 'lion': 1, 'cub': 1, 'mouth': 1, 'championship': 1, 'finals': 1, 'curtain': 1, 'career': 1, 'claret': 1, 'vintner': 1, 'peregrine': 1, 'falcon': 1, 'peacock': 1, 'display': 1, 'plumage': 1, 'skydiver': 1, 'rip': 1, 'cord': 1, 'parachute': 1, 'need': 1, 'day': 1, 'kids': 1, 'remembereth': 1, 'name': 1, 'football': 1, 'cap': 1, 'dolphin': 1, 'greco': 1, 'roman': 1, 'bird': 1, 'cheerleader': 1, 'trampoline': 1, 'prom': 1, 'dress': 1, 'cuckoo': 1, 'clock': 1, 'shade': 1, 'mirror': 1, 'pauper': 1, 'gladiator': 1, 'owl': 1, 'eyes': 1, 'tiger': 1, 'pair': 1, 'carpet': 1, 'slippers': 1, 'pressure': 1, 'issue': 1, 'tale': 1, 'horror': 1, 'movie': 1, 'black': 1, 'couple': 1, 'gunslingers': 1, 'rainbow': 1, 'splendor': 1, 'studio': 1, 'steroids': 1, 'mirrors': 1, 'gamble': 1, 'lane': 1, 'fire': 1, 'steel': 1, 'times': 1, 'hornet': 1, 'nest': 1, 'lamb': 1, 'corner': 1, 'firecracker': 1, 'kick': 1, 'storm': 1, 'cake': 1})\n"
     ]
    }
   ],
   "source": [
    "from collections import Counter\n",
    "counts = Counter(flat_nouns)"
   ]
  },
  {
   "cell_type": "code",
   "execution_count": 27,
   "metadata": {},
   "outputs": [],
   "source": [
    "del counts['team']"
   ]
  },
  {
   "cell_type": "code",
   "execution_count": 28,
   "metadata": {},
   "outputs": [
    {
     "name": "stdout",
     "output_type": "stream",
     "text": [
      "Counter({'shark': 3, 'fish': 2, 'ghost': 2, 'fog': 2, 'dentist': 2, 'skirt': 2, 'boot': 2, 'back': 2, 'alligator': 2, 'penalty': 2, 'home': 2, 'ball': 2, 'feeling': 2, 'way': 2, 'bear': 2, 'trap': 2, 'diamond': 2, 'necklace': 2, 'baby': 2, 'tank': 1, 'week': 1, 'jack': 1, 'rabbit': 1, 'date': 1, 'whites': 1, 'barcelona': 1, 'spandex': 1, 'beach': 1, 'degrees': 1, 'rain': 1, 'wind': 1, 'bloodhound': 1, 'center': 1, 'goal': 1, 'softness': 1, 'candlelight': 1, 'knife': 1, 'thrower': 1, 'circus': 1, 'teenager': 1, 'cell': 1, 'phone': 1, 'goalkeeper': 1, 'turtle': 1, 'shower': 1, 'arrows': 1, 'itch': 1, 'one': 1, 'teams': 1, 'field': 1, 'advantage': 1, 'plumbing': 1, 'product': 1, 'list': 1, 'brother': 1, 'halt': 1, 'basketball': 1, 'sweaty': 1, 'armpits': 1, 'baseball': 1, 'maniac': 1, 'possess': 1, 'veins': 1, 'neck': 1, 'strangers': 1, 'hair': 1, 'tears': 1, 'size': 1, 'pineapple': 1, 'chunks': 1, 'jubilation': 1, 'ribcage': 1, 'moment': 1, 'rapture': 1, 'magnet': 1, 'train': 1, 'hospital': 1, 'tricks': 1, 'nursing': 1, 'Cave': 1, 'lumps': 1, 'coal': 1, 'surfer': 1, 'mushroom': 1, 'belief': 1, 'spider': 1, 'monkey': 1, 'planet': 1, 'belly': 1, 'heavenly-': 1, 'sitters': 1, 'cat': 1, 'boy': 1, 'seashore': 1, 'pebbles': 1, 'shells': 1, 'portion': 1, 'truth': 1, 'turkey': 1, 'season': 1, 'spirit': 1, 'hurt': 1, 'sledgehammers': 1, 'lion': 1, 'cub': 1, 'mouth': 1, 'championship': 1, 'finals': 1, 'curtain': 1, 'career': 1, 'claret': 1, 'vintner': 1, 'peregrine': 1, 'falcon': 1, 'peacock': 1, 'display': 1, 'plumage': 1, 'skydiver': 1, 'rip': 1, 'cord': 1, 'parachute': 1, 'need': 1, 'day': 1, 'kids': 1, 'remembereth': 1, 'name': 1, 'football': 1, 'cap': 1, 'dolphin': 1, 'greco': 1, 'roman': 1, 'bird': 1, 'cheerleader': 1, 'trampoline': 1, 'prom': 1, 'dress': 1, 'cuckoo': 1, 'clock': 1, 'shade': 1, 'mirror': 1, 'pauper': 1, 'gladiator': 1, 'owl': 1, 'eyes': 1, 'tiger': 1, 'pair': 1, 'carpet': 1, 'slippers': 1, 'pressure': 1, 'issue': 1, 'tale': 1, 'horror': 1, 'movie': 1, 'black': 1, 'couple': 1, 'gunslingers': 1, 'rainbow': 1, 'splendor': 1, 'studio': 1, 'steroids': 1, 'mirrors': 1, 'gamble': 1, 'lane': 1, 'fire': 1, 'steel': 1, 'times': 1, 'hornet': 1, 'nest': 1, 'lamb': 1, 'corner': 1, 'firecracker': 1, 'kick': 1, 'storm': 1, 'cake': 1})\n"
     ]
    }
   ],
   "source": [
    "print(counts)"
   ]
  },
  {
   "cell_type": "code",
   "execution_count": null,
   "metadata": {},
   "outputs": [],
   "source": []
  }
 ],
 "metadata": {
  "kernelspec": {
   "display_name": "Python 3",
   "language": "python",
   "name": "python3"
  },
  "language_info": {
   "codemirror_mode": {
    "name": "ipython",
    "version": 3
   },
   "file_extension": ".py",
   "mimetype": "text/x-python",
   "name": "python",
   "nbconvert_exporter": "python",
   "pygments_lexer": "ipython3",
   "version": "3.7.9"
  },
  "orig_nbformat": 4,
  "vscode": {
   "interpreter": {
    "hash": "fc22371f3870926dbbcdf04161196d7334d8dc09d0b069ea32b843c425bf39e1"
   }
  }
 },
 "nbformat": 4,
 "nbformat_minor": 2
}
