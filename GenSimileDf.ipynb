{
 "cells": [
  {
   "cell_type": "code",
   "execution_count": 3,
   "metadata": {},
   "outputs": [],
   "source": [
    "import pandas as pd\n",
    "import nltk\n",
    "import numpy as np\n",
    "import matplotlib.pyplot as plt \n",
    "from nltk.tokenize import sent_tokenize"
   ]
  },
  {
   "cell_type": "code",
   "execution_count": 2,
   "metadata": {},
   "outputs": [],
   "source": [
    "data_df = pd.read_csv(\"RayHudsonSanitized.csv\")"
   ]
  },
  {
   "cell_type": "code",
   "execution_count": 4,
   "metadata": {},
   "outputs": [],
   "source": [
    "def get_simile(text_in):\n",
    "    simile_arr = []\n",
    "    sentences = sent_tokenize(text_in)\n",
    "    for sent in sentences:\n",
    "        if 'like a' in sent.lower():\n",
    "            simile_arr.append(sent)\n",
    "\n",
    "    return simile_arr"
   ]
  },
  {
   "cell_type": "code",
   "execution_count": 7,
   "metadata": {},
   "outputs": [],
   "source": [
    "similes = data_df[\"punctuated transcripts\"].apply(get_simile)"
   ]
  },
  {
   "cell_type": "code",
   "execution_count": 16,
   "metadata": {},
   "outputs": [],
   "source": [
    "similes.to_csv(\"RayHudsonSimiles.csv\", index = False)"
   ]
  },
  {
   "cell_type": "code",
   "execution_count": 10,
   "metadata": {},
   "outputs": [],
   "source": [
    "simile_list = similes.tolist()"
   ]
  },
  {
   "cell_type": "code",
   "execution_count": 14,
   "metadata": {},
   "outputs": [],
   "source": [
    "final_list = [x for y in simile_list for x in y]"
   ]
  },
  {
   "cell_type": "code",
   "execution_count": 15,
   "metadata": {},
   "outputs": [
    {
     "name": "stdout",
     "output_type": "stream",
     "text": [
      "[\"he follows on and the angle is actually narrower in this halo of a footballer, again tonight's looking like a shark that's been in a fish tank for a week.\", 'off like a jack rabbit on a hot date as the whites break and absolutely stretch out barcelona like spandex on miami beach.', \"it's like away: [Applause] 56 degrees as the rain and wind pick up.\", 'and again messi arrives like a ghost through the fog.', 'and then messi again, like a bloodhound under the center of a goal and it touches softness, candlelight to finish it off.', \"he leaves the defender with twisted blood on his turn and he's got options left and right, but he needs help like a shark needs a dentist.\", \"but with such it's like a knife thrower at the circus, just beautifully, incredibly accurate to step through.\", 'five in the wall and it looks like a skirt to boot.', 'first of all, and once it gets to messi, he needs help like a shark needs a dentist.', 'is just attached to the ball like a teenager to his cell phone and putting the goalkeeper on his back like a turtle.', 'one look up the big bulging french eyes and then a slingshot home and they were coming at him like a shower of arrows in his back.', 'five in the wall, and it looks like a skirt to boot.', 'the creation is spelled by me here, twisting and turning like an alligator with an itch, and he detonates this one again.', 'and that looks like a penalty.', \"you take that element out of the one, The Mikado, and that has to hurt teams like Atletico in Valencia, more so than other teams that don't quite depend that much on the home-field advantage.\", \"I think they're the more the more talented teams among this crop that we're talking about, the teams that have like a more plumbing closer to their finished product, and I want desperately to add hit Ave to that list.\", 'McGinnis and I became very good friends and I missed you like a brother.', \"Benzema tries, but over the bar, lovely, looked at a dropping ball and that's his dynamic rate, concentrated like a hungry halt on the ball.\", \"Magisterial- look at gridiron unis, the look like a young man's met kind of the lesser basketball: sweaty armpits everywhere the baseball lives.\", 'when a team scores, I could like a complete and total maniac, a possess mad man, screaming with a purple fish and veins popping from the neck, kissing complete strangers, yelling as if my hair was unfair, crying tears the size of pineapple chunks, enjoy a feeling of sheer spontaneous jubilation and it felt, make very sure was banging on my ribcage to get out in a moment of unbridled rapture.', \"perhaps it's an almost to snort, but it calls your tears and pulls your eyes out like a magnet.\", \"the baby saidman, 8 year old father will, who was in a bad way- amazingly the word dads pull through like a locomotive train and he's out of hospital and back to his old tricks in the nursing home.\", \"boss has not a room after this game will be like an Aladdin's Cave, but recently they've been more like lumps of coal.\", 'zinedine zidane Madrid have suffered even more injuries and yet have roared the wave like a Hawaiian surfer mushroom in their belief in one another, then being fortunate on the way.', 'I was right and I swung around my living room like a spider monkey.', 'well, me Mom party like a Brazilian.', 'the first half Sevilla was playing like arguably the best team on the planet.', 'he may not play dice with the universe, like Albert Einstein said, but man does he like a good belly laugh seeing these so-called heavenly- please miss absolute bloody sitters?', \"Sharia maldini, but Izzy, I'll has a memory, like a bear trap.\", 'I saw kubala play, smiling like a Cheshire cat.', 'Isaac Newton said he was like a boy at the seashore, playing with pebbles and shells, whilst the great portion of truth Leah undiscovered before me.', \"it's been way too long since we saw that consistently impressive performances from hammers, like we did in the World Cup, and Carlo Ancelotti: we shine like a diamond.\", 'then they visit gijón, in celta vigo, where they got stuffed like a turkey on Thanksgiving for one last season.', \"ours is a game where fan power can suck the ball into the net against all the odds again, where, when your team loses a really big match, the pangs of misery and hard egg is like no other feeling you'll ever know: a crushing spirit, draining hurt that hangs around you like a necklace of sledgehammers.\", 'after carrying Argentina like a lion with its cub in its mouth to three consecutive championship finals in foreign all, Leonel Messi is pulling the curtain down on his international career.', 'I like a good claret, fermented beautifully by sean daesh.', 'he blended his fruity footballers like a Marston, a vintner.', \"a fearsome predator, a bird of prey like a peregrine falcon, and also a stupendously glorious peacock, magnificent in its spectacular display of plumage, and that's King to me.\", \"an own goal in four weeks, 11-point lead, flushed down the wazoo to less than 0. less than zero because boss are now in free fall like a skydiver whose Poland frantically on the rip cord in the parachute won't open.\", 'when second place middlesbrough had their panties taken down and got spanked by Jordan athletic who was second bottom for a fanatical, kiya Marie was bawling like a baby in need of a serious day by kids / baby remembereth.', 'club gaza, like ajax, your best name, and football that beat six top team cap in Syria.', 'no night Irishman Christy Brown was looking down and probably laughing like a dolphin.', 'the French legend is in charge of the Bernabeu, like Ancelotti.', \"and for four days, and flippin Nate's have been wrestling with this like a greco-roman with an alligator.\", \"it's like asking a bird not to fly.\", \"you're still probably shaking your head in disbelief that super mario balotelli of all people came this close a number of times in that amazing finale to the match, or you'll be jumping up and down like a cheerleader on a trampoline over the way.\", 'fast, Freddy, worrying, stare home that winner like a Ferrari at Monza, Bella, Bella.', 'Turan was off like a prom dress.', \"he should fit right in the boss's botanical midfield like a cuckoo in a Swiss clock.\", 'Letty, Pogba and UV, all horses of a distinctly different color, all like a shade of mirror.', 'let me be perfectly clear on this one: the whole departure was nothing less than an insult to a player who, in arguably, produced more trophies over more years for Real Madrid than any other player in their glorious history, and he was treated at the end like a pauper, not the gladiator that he was and still is.', 'bewitching is candle eight in their constant surveillance of the pitch, with necks like an owl and eyes of a tiger.', \"pressures par for the course in both clubs, where pressure like a pair of carpet slippers, so pressure isn't an issue.\", 'the penalty box even sounds like a tale to a horror movie produced by the man in black.', 'tension so palpable like a couple of gunslingers on a dusty, Wild West Street.', \"doesn't leave too much but like a rainbow and a damp tear its splendor.\", 'against real sociedad, the santiago bernabéu will be like an enormous studio 54 on saturday, innate steroids when the disco ball mirrors, all the flashy Galacticos flare.', \"last season, seining Gareth Bale for a new wool transfer record sure doesn't look like a gamble.\", 'so now we know what a Formula One race car driver feels like after crossing the finishing lane.', 'the pure entertainment level has been undeniable, the thrills and spills flowing like a burst fire hydrant.', \"God's a great reader even now, at 95, and one of the great lanes he read to me they grabbed my imagination like a steel bear trap, was it was the best of times.\", \"what I haven't done is deliver any glowing tributes towards FC Barcelona, tata martino or any blow grana player, and yet it is barsa that could arrive like a ghost through a fog to win La Liga yet again.\", \"when the world cup starts, the market will be buzzin like a hornet's nest.\", 'nothing sends me amors like a lamb corner.', 'his Morton passion makes vesuvius look like a Chinese firecracker.', 'this is like a penalty kick to the Brazilians.', 'the pressure on big fills Brazil will be unlike anything any other team has ever experienced.', \"but I believe they'll wear that pressure like a Cartier diamond pendant necklace Eldorado.\", 'dynamic Jews, a rare in dazzling combination that come along once in a very real way, but when they do, the late of the black sky like an electrical storm.', \"there's nothing Tweedledum and Tweedledee about them and, like Alice after that cake that you eat, they just keep getting taller and taller and stronger.\"]\n"
     ]
    }
   ],
   "source": [
    "print(final_list)"
   ]
  },
  {
   "cell_type": "code",
   "execution_count": 17,
   "metadata": {},
   "outputs": [],
   "source": [
    "import pickle"
   ]
  },
  {
   "cell_type": "code",
   "execution_count": 18,
   "metadata": {},
   "outputs": [],
   "source": [
    "dbfile = open('HudsonSimileList', 'ab')\n",
    "pickle.dump(final_list, dbfile)\n",
    "dbfile.close()"
   ]
  },
  {
   "cell_type": "code",
   "execution_count": 21,
   "metadata": {},
   "outputs": [
    {
     "name": "stdout",
     "output_type": "stream",
     "text": [
      "[\" a shark that's been in a fish tank for a week.\"]\n"
     ]
    }
   ],
   "source": [
    "print(final_list[0].split('like')[1:])"
   ]
  },
  {
   "cell_type": "code",
   "execution_count": 23,
   "metadata": {},
   "outputs": [],
   "source": [
    "clause_simile = []\n",
    "for i in final_list:\n",
    "    clause_simile.append(i.split('like')[1:])"
   ]
  },
  {
   "cell_type": "code",
   "execution_count": 24,
   "metadata": {},
   "outputs": [
    {
     "name": "stdout",
     "output_type": "stream",
     "text": [
      "[[\" a shark that's been in a fish tank for a week.\"], [' a jack rabbit on a hot date as the whites break and absolutely stretch out barcelona ', ' spandex on miami beach.'], [' away: [Applause] 56 degrees as the rain and wind pick up.'], [' a ghost through the fog.'], [' a bloodhound under the center of a goal and it touches softness, candlelight to finish it off.'], [' a shark needs a dentist.'], [' a knife thrower at the circus, just beautifully, incredibly accurate to step through.'], [' a skirt to boot.'], [' a shark needs a dentist.'], [' a teenager to his cell phone and putting the goalkeeper on his back ', ' a turtle.'], [' a shower of arrows in his back.'], [' a skirt to boot.'], [' an alligator with an itch, and he detonates this one again.'], [' a penalty.'], [\" Atletico in Valencia, more so than other teams that don't quite depend that much on the home-field advantage.\"], [' a more plumbing closer to their finished product, and I want desperately to add hit Ave to that list.'], [' a brother.'], [' a hungry halt on the ball.'], [\" a young man's met kind of the lesser basketball: sweaty armpits everywhere the baseball lives.\"], [' a complete and total maniac, a possess mad man, screaming with a purple fish and veins popping from the neck, kissing complete strangers, yelling as if my hair was unfair, crying tears the size of pineapple chunks, enjoy a feeling of sheer spontaneous jubilation and it felt, make very sure was banging on my ribcage to get out in a moment of unbridled rapture.'], [' a magnet.'], [\" a locomotive train and he's out of hospital and back to his old tricks in the nursing home.\"], [\" an Aladdin's Cave, but recently they've been more \", ' lumps of coal.'], [' a Hawaiian surfer mushroom in their belief in one another, then being fortunate on the way.'], [' a spider monkey.'], [' a Brazilian.'], [' arguably the best team on the planet.'], [' Albert Einstein said, but man does he ', ' a good belly laugh seeing these so-called heavenly- please miss absolute bloody sitters?'], [' a bear trap.'], [' a Cheshire cat.'], [' a boy at the seashore, playing with pebbles and shells, whilst the great portion of truth Leah undiscovered before me.'], [' we did in the World Cup, and Carlo Ancelotti: we shine ', ' a diamond.'], [' a turkey on Thanksgiving for one last season.'], [\" no other feeling you'll ever know: a crushing spirit, draining hurt that hangs around you \", ' a necklace of sledgehammers.'], [' a lion with its cub in its mouth to three consecutive championship finals in foreign all, Leonel Messi is pulling the curtain down on his international career.'], [' a good claret, fermented beautifully by sean daesh.'], [' a Marston, a vintner.'], [\" a peregrine falcon, and also a stupendously glorious peacock, magnificent in its spectacular display of plumage, and that's King to me.\"], [\" a skydiver whose Poland frantically on the rip cord in the parachute won't open.\"], [' a baby in need of a serious day by kids / baby remembereth.'], [' ajax, your best name, and football that beat six top team cap in Syria.'], [' a dolphin.'], [' Ancelotti.'], [' a greco-roman with an alligator.'], [' asking a bird not to fly.'], [' a cheerleader on a trampoline over the way.'], [' a Ferrari at Monza, Bella, Bella.'], [' a prom dress.'], [' a cuckoo in a Swiss clock.'], [' a shade of mirror.'], [' a pauper, not the gladiator that he was and still is.'], [' an owl and eyes of a tiger.'], [\" a pair of carpet slippers, so pressure isn't an issue.\"], [' a tale to a horror movie produced by the man in black.'], [' a couple of gunslingers on a dusty, Wild West Street.'], [' a rainbow and a damp tear its splendor.'], [' an enormous studio 54 on saturday, innate steroids when the disco ball mirrors, all the flashy Galacticos flare.'], [' a gamble.'], [' after crossing the finishing lane.'], [' a burst fire hydrant.'], [' a steel bear trap, was it was the best of times.'], [' a ghost through a fog to win La Liga yet again.'], [\" a hornet's nest.\"], [' a lamb corner.'], [' a Chinese firecracker.'], [' a penalty kick to the Brazilians.'], [' anything any other team has ever experienced.'], [' a Cartier diamond pendant necklace Eldorado.'], [' an electrical storm.'], [' Alice after that cake that you eat, they just keep getting taller and taller and stronger.']]\n"
     ]
    }
   ],
   "source": [
    "print(clause_simile)"
   ]
  },
  {
   "cell_type": "code",
   "execution_count": 25,
   "metadata": {},
   "outputs": [],
   "source": [
    "output_list = [x for y in clause_simile for x in y]"
   ]
  },
  {
   "cell_type": "code",
   "execution_count": 26,
   "metadata": {},
   "outputs": [],
   "source": [
    "dbfile = open('HudsonSimileClauses', 'ab')\n",
    "pickle.dump(output_list, dbfile)\n",
    "dbfile.close()"
   ]
  },
  {
   "cell_type": "code",
   "execution_count": null,
   "metadata": {},
   "outputs": [],
   "source": []
  }
 ],
 "metadata": {
  "kernelspec": {
   "display_name": "Python 3",
   "language": "python",
   "name": "python3"
  },
  "language_info": {
   "codemirror_mode": {
    "name": "ipython",
    "version": 3
   },
   "file_extension": ".py",
   "mimetype": "text/x-python",
   "name": "python",
   "nbconvert_exporter": "python",
   "pygments_lexer": "ipython3",
   "version": "3.7.9"
  },
  "orig_nbformat": 4,
  "vscode": {
   "interpreter": {
    "hash": "fc22371f3870926dbbcdf04161196d7334d8dc09d0b069ea32b843c425bf39e1"
   }
  }
 },
 "nbformat": 4,
 "nbformat_minor": 2
}
